{
  "nbformat": 4,
  "nbformat_minor": 0,
  "metadata": {
    "colab": {
      "name": "Eng_Python_EmbeddingLayer_Training.ipynb",
      "provenance": [],
      "collapsed_sections": []
    },
    "kernelspec": {
      "name": "python3",
      "display_name": "Python 3"
    },
    "accelerator": "GPU"
  },
  "cells": [
    {
      "cell_type": "code",
      "metadata": {
        "id": "La5bSubRH71w"
      },
      "source": [
        "from gensim.test.utils import common_texts, get_tmpfile\r\n",
        "from gensim.models import Word2Vec"
      ],
      "execution_count": 1,
      "outputs": []
    },
    {
      "cell_type": "code",
      "metadata": {
        "id": "uJMwg6hPIRxY"
      },
      "source": [
        "model = Word2Vec(common_texts, size=100, window=5, min_count=1, workers=4)\r\n",
        "model.wv.save_word2vec_format(\"/content/drive/MyDrive/ENDProgram/Session14/EmbeddingFile/embedding_file_with_space.txt\")"
      ],
      "execution_count": null,
      "outputs": []
    },
    {
      "cell_type": "code",
      "metadata": {
        "id": "lJpUJbefIZD2"
      },
      "source": [
        "!gzip /content/drive/MyDrive/ENDProgram/Session14/EmbeddingFile/embedding_file_with_space.txt"
      ],
      "execution_count": null,
      "outputs": []
    },
    {
      "cell_type": "code",
      "metadata": {
        "id": "j1ShiUROIcQ0"
      },
      "source": [
        "cd /content/drive/MyDrive/ENDProgram/Session14"
      ],
      "execution_count": null,
      "outputs": []
    },
    {
      "cell_type": "code",
      "metadata": {
        "id": "Gg0e0OCMIewk"
      },
      "source": [
        "!python -m spacy init-model en 'word2vec_py.model' --vectors-loc embedding_file_with_space.txt.gz"
      ],
      "execution_count": null,
      "outputs": []
    },
    {
      "cell_type": "code",
      "metadata": {
        "id": "_OG2DDG4IiZ8"
      },
      "source": [
        "#Python Embedding model\r\n",
        "spacy_py = spacy.load('/content/drive/MyDrive/ENDProgram/Session14/Embedding_Model/word2vec_py.model')"
      ],
      "execution_count": null,
      "outputs": []
    }
  ]
}