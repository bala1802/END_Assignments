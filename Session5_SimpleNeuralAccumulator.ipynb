{
  "nbformat": 4,
  "nbformat_minor": 0,
  "metadata": {
    "colab": {
      "name": "Session5_SimpleNeuralAccumulator.ipynb",
      "provenance": [],
      "collapsed_sections": [],
      "authorship_tag": "ABX9TyNEOOg6mohA6aHFcgvm+Bco",
      "include_colab_link": true
    },
    "kernelspec": {
      "name": "python3",
      "display_name": "Python 3"
    },
    "accelerator": "GPU"
  },
  "cells": [
    {
      "cell_type": "markdown",
      "metadata": {
        "id": "view-in-github",
        "colab_type": "text"
      },
      "source": [
        "<a href=\"https://colab.research.google.com/github/bala1802/END_Assignments/blob/main/Session5_SimpleNeuralAccumulator.ipynb\" target=\"_parent\"><img src=\"https://colab.research.google.com/assets/colab-badge.svg\" alt=\"Open In Colab\"/></a>"
      ]
    },
    {
      "cell_type": "code",
      "metadata": {
        "id": "G6rPtL34VaE-"
      },
      "source": [
        "import numpy as np\n",
        "import tensorflow as tf\n",
        "import keras\n",
        "import matplotlib.pyplot as plt"
      ],
      "execution_count": null,
      "outputs": []
    },
    {
      "cell_type": "code",
      "metadata": {
        "id": "HNozKovqWWn1"
      },
      "source": [
        "# x_in -> Input vector\n",
        "# out_units -> number of output neurons\n",
        "def NAC(x_in, out_units):\n",
        "    in_features = x_in.shape[1]\n",
        "    # define W_hat and M_hat\n",
        "    W_hat = tf.get_variable(name = \"W_hat\", initializer=tf.initializers.random_uniform(minval=-2, maxval=2),\n",
        "                            shape=[in_features, out_units],  trainable=True)\n",
        "    M_hat = tf.get_variable(name = \"M_hat\", initializer=tf.initializers.random_uniform(minval=-2, maxval=2), \n",
        "                            shape=[in_features, out_units], trainable=True)\n",
        "    print('########### W_hat is : ', W_hat)\n",
        "    print('########### M_hat is : ', M_hat)\n",
        "    # Get W\n",
        "    W = tf.nn.tanh(W_hat) * tf.nn.sigmoid(M_hat)\n",
        "    print('########### W is : ', W)\n",
        "    y_out = tf.matmul(x_in, W)\n",
        "    print('########### y_out is : ', y_out)\n",
        "    return y_out, W"
      ],
      "execution_count": null,
      "outputs": []
    },
    {
      "cell_type": "markdown",
      "metadata": {
        "id": "ttn-3GWeXSHg"
      },
      "source": [
        "Test the Network by learning the adition"
      ]
    },
    {
      "cell_type": "code",
      "metadata": {
        "id": "NjsSpSOvW2om"
      },
      "source": [
        "# Generate a series of input number X1 and X2 for training\n",
        "x1 = np.arange(0,10000, 5, dtype=np.float32)\n",
        "x2 = np.arange(5,10005, 5, dtype=np.float32)"
      ],
      "execution_count": null,
      "outputs": []
    },
    {
      "cell_type": "code",
      "metadata": {
        "id": "rHiVa7N5Xabt"
      },
      "source": [
        "y_train = x1 + x2\n",
        "#y_train = x1 - x2"
      ],
      "execution_count": null,
      "outputs": []
    },
    {
      "cell_type": "code",
      "metadata": {
        "id": "bAaOHTbEXdVO"
      },
      "source": [
        "x_train = np.column_stack((x1,x2))"
      ],
      "execution_count": null,
      "outputs": []
    },
    {
      "cell_type": "code",
      "metadata": {
        "colab": {
          "base_uri": "https://localhost:8080/"
        },
        "id": "QsaJuNguXhDN",
        "outputId": "329686e8-eacc-45eb-d517-0c57594cc292"
      },
      "source": [
        "print(x_train.shape)\n",
        "print(y_train.shape)"
      ],
      "execution_count": null,
      "outputs": [
        {
          "output_type": "stream",
          "text": [
            "(2000, 2)\n",
            "(2000,)\n"
          ],
          "name": "stdout"
        }
      ]
    },
    {
      "cell_type": "code",
      "metadata": {
        "id": "zMIxlIfEZmng"
      },
      "source": [
        "# Generate a series of input number X1 and X2 for testing\n",
        "x1 = np.arange(1000,2000,8, dtype=np.float32)\n",
        "x2 = np.arange(1000,1500,4, dtype= np.float32)"
      ],
      "execution_count": null,
      "outputs": []
    },
    {
      "cell_type": "code",
      "metadata": {
        "id": "-hu3kvZQambw"
      },
      "source": [
        "x_test = np.column_stack((x1,x2))\n",
        "y_test = x1 + x2\n",
        "#y_test = x1 - x2"
      ],
      "execution_count": null,
      "outputs": []
    },
    {
      "cell_type": "code",
      "metadata": {
        "colab": {
          "base_uri": "https://localhost:8080/"
        },
        "id": "p6wEI08navot",
        "outputId": "f6289c14-f027-4b90-ff50-21cdb54ea56b"
      },
      "source": [
        "print(x_test.shape)\n",
        "print(y_test.shape)"
      ],
      "execution_count": null,
      "outputs": [
        {
          "output_type": "stream",
          "text": [
            "(125, 2)\n",
            "(125,)\n"
          ],
          "name": "stdout"
        }
      ]
    },
    {
      "cell_type": "code",
      "metadata": {
        "colab": {
          "base_uri": "https://localhost:8080/"
        },
        "id": "wRu3O3_kcBD8",
        "outputId": "7736217d-6bfd-421c-f30f-7fc24dafea2e"
      },
      "source": [
        "import tensorflow.compat.v1 as tf\n",
        "tf.disable_v2_behavior()"
      ],
      "execution_count": null,
      "outputs": [
        {
          "output_type": "stream",
          "text": [
            "WARNING:tensorflow:From /usr/local/lib/python3.6/dist-packages/tensorflow/python/compat/v2_compat.py:96: disable_resource_variables (from tensorflow.python.ops.variable_scope) is deprecated and will be removed in a future version.\n",
            "Instructions for updating:\n",
            "non-resource variables are not supported in the long term\n"
          ],
          "name": "stdout"
        }
      ]
    },
    {
      "cell_type": "code",
      "metadata": {
        "id": "vXRreCKoaxMQ"
      },
      "source": [
        "# Define the placeholder to feed the value at run time\n",
        "X = tf.placeholder(dtype=tf.float32, shape =[None , 2])    # Number of samples x Number of features (number of inputs to be added)\n",
        "Y = tf.placeholder(dtype=tf.float32, shape=[None,])"
      ],
      "execution_count": null,
      "outputs": []
    },
    {
      "cell_type": "code",
      "metadata": {
        "colab": {
          "base_uri": "https://localhost:8080/"
        },
        "id": "GowQQdLRbgId",
        "outputId": "3845f360-9c88-4bf4-9642-81d6c6f54dc8"
      },
      "source": [
        "Y"
      ],
      "execution_count": null,
      "outputs": [
        {
          "output_type": "execute_result",
          "data": {
            "text/plain": [
              "<tf.Tensor 'Placeholder_1:0' shape=(?,) dtype=float32>"
            ]
          },
          "metadata": {
            "tags": []
          },
          "execution_count": 12
        }
      ]
    },
    {
      "cell_type": "code",
      "metadata": {
        "colab": {
          "base_uri": "https://localhost:8080/"
        },
        "id": "l4OD0cRhcdZK",
        "outputId": "ce9d1ecc-92c0-44fd-a058-fd5d0e39e161"
      },
      "source": [
        "y_pred, W = NAC(X, out_units=1)\n",
        "print('y_pred.shape is : ', y_pred.shape)"
      ],
      "execution_count": null,
      "outputs": [
        {
          "output_type": "stream",
          "text": [
            "########### W_hat is :  <tf.Variable 'W_hat:0' shape=(2, 1) dtype=float32_ref>\n",
            "########### M_hat is :  <tf.Variable 'M_hat:0' shape=(2, 1) dtype=float32_ref>\n",
            "########### W is :  Tensor(\"mul:0\", shape=(2, 1), dtype=float32)\n",
            "########### y_out is :  Tensor(\"MatMul:0\", shape=(?, 1), dtype=float32)\n",
            "y_pred.shape is :  (?, 1)\n"
          ],
          "name": "stdout"
        }
      ]
    },
    {
      "cell_type": "code",
      "metadata": {
        "colab": {
          "base_uri": "https://localhost:8080/"
        },
        "id": "YSRBF6v0dxcM",
        "outputId": "56a72acf-8704-4657-f8bf-89c73c156cbd"
      },
      "source": [
        "y_pred = tf.squeeze(y_pred)\n",
        "print('y_pred.shape after squeezing : ', y_pred.shape)"
      ],
      "execution_count": null,
      "outputs": [
        {
          "output_type": "stream",
          "text": [
            "y_pred.shape after squeezing :  <unknown>\n"
          ],
          "name": "stdout"
        }
      ]
    },
    {
      "cell_type": "code",
      "metadata": {
        "id": "jG8vdTWcel6o"
      },
      "source": [
        "# Mean Square Error (MSE)\n",
        "loss = tf.reduce_mean( (y_pred - Y) **2)"
      ],
      "execution_count": null,
      "outputs": []
    },
    {
      "cell_type": "code",
      "metadata": {
        "id": "9ONWPsdrepbV"
      },
      "source": [
        "# training parameters\n",
        "alpha = 0.05    # learning rate\n",
        "epochs = 22000"
      ],
      "execution_count": null,
      "outputs": []
    },
    {
      "cell_type": "code",
      "metadata": {
        "id": "YQgas9ZvfMjr"
      },
      "source": [
        "optimize = tf.train.AdamOptimizer(learning_rate=alpha).minimize(loss)"
      ],
      "execution_count": null,
      "outputs": []
    },
    {
      "cell_type": "code",
      "metadata": {
        "colab": {
          "base_uri": "https://localhost:8080/",
          "height": 481
        },
        "id": "5ddKrU1rfO_E",
        "outputId": "6ec13bd0-e515-438b-8ff4-e8a79e7157df"
      },
      "source": [
        "with tf.Session() as sess:\n",
        "\n",
        "    #init = tf.global_variables_initializer()\n",
        "    cost_history = []\n",
        "\n",
        "    sess.run(tf.global_variables_initializer())\n",
        "\n",
        "    # pre training evaluate\n",
        "    print(\"Pre training MSE: \", sess.run (loss, feed_dict={X: x_test, Y:y_test}))\n",
        "    print()\n",
        "    for i in range(epochs):\n",
        "        _, cost = sess.run([optimize, loss ], feed_dict={X:x_train, Y: y_train})\n",
        "        #print(\"epoch: {}, MSE: {}\".format( i,cost) )\n",
        "        cost_history.append(cost)\n",
        "\n",
        "    # plot the MSE over each iteration\n",
        "    plt.plot(np.arange(epochs),np.log(cost_history))  # Plot MSE on log scale\n",
        "    plt.xlabel(\"Epoch\")\n",
        "    plt.ylabel(\"MSE\")\n",
        "    plt.show()\n",
        "\n",
        "    print()\n",
        "    print(W.eval())\n",
        "    print()\n",
        "    # post training loss\n",
        "    print(\"Post training MSE: \", sess.run(loss, feed_dict={X: x_test, Y: y_test}))\n",
        "\n",
        "    print(\"Actual sum: \", y_test[0:10])\n",
        "    print()\n",
        "    print(\"Predicted sum: \", sess.run(y_pred[0:10], feed_dict={X: x_test, Y: y_test}))"
      ],
      "execution_count": null,
      "outputs": [
        {
          "output_type": "stream",
          "text": [
            "Pre training MSE:  13301843.0\n",
            "\n"
          ],
          "name": "stdout"
        },
        {
          "output_type": "display_data",
          "data": {
            "image/png": "[encoded data removed]",
            "text/plain": [
              "<Figure size 432x288 with 1 Axes>"
            ]
          },
          "metadata": {
            "tags": [],
            "needs_background": "light"
          }
        },
        {
          "output_type": "stream",
          "text": [
            "\n",
            "[[0.9999303]\n",
            " [0.999951 ]]\n",
            "\n",
            "Post training MSE:  0.028090807\n",
            "Actual sum:  [2000. 2012. 2024. 2036. 2048. 2060. 2072. 2084. 2096. 2108.]\n",
            "\n",
            "Predicted sum:  [1999.8813 2011.8806 2023.8799 2035.8792 2047.8783 2059.8774 2071.877\n",
            " 2083.876  2095.8755 2107.8745]\n"
          ],
          "name": "stdout"
        }
      ]
    },
    {
      "cell_type": "code",
      "metadata": {
        "colab": {
          "base_uri": "https://localhost:8080/"
        },
        "id": "Ll5fRRkchMOO",
        "outputId": "680ed0c3-57d2-41f1-def9-ad46f7eb3aac"
      },
      "source": [
        "print(x_test[0:10])"
      ],
      "execution_count": null,
      "outputs": [
        {
          "output_type": "stream",
          "text": [
            "[[1000. 1000.]\n",
            " [1008. 1004.]\n",
            " [1016. 1008.]\n",
            " [1024. 1012.]\n",
            " [1032. 1016.]\n",
            " [1040. 1020.]\n",
            " [1048. 1024.]\n",
            " [1056. 1028.]\n",
            " [1064. 1032.]\n",
            " [1072. 1036.]]\n"
          ],
          "name": "stdout"
        }
      ]
    },
    {
      "cell_type": "code",
      "metadata": {
        "id": "KP8OPSTMh3JH"
      },
      "source": [
        ""
      ],
      "execution_count": null,
      "outputs": []
    }
  ]
}