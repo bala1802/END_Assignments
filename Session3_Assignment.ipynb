{
  "nbformat": 4,
  "nbformat_minor": 0,
  "metadata": {
    "colab": {
      "name": "Session3_Assignment.ipynb",
      "provenance": [],
      "collapsed_sections": []
    },
    "kernelspec": {
      "name": "python3",
      "display_name": "Python 3"
    },
    "accelerator": "GPU"
  },
  "cells": [
    {
      "cell_type": "code",
      "metadata": {
        "id": "eAkiXpg0IRTm"
      },
      "source": [
        "import math\n",
        "from functools import reduce\n",
        "import random\n",
        "import string\n",
        "# from functools import partial\n",
        "import numpy as np"
      ],
      "execution_count": 25,
      "outputs": []
    },
    {
      "cell_type": "markdown",
      "metadata": {
        "id": "H_je1uzXIUc2"
      },
      "source": [
        "1.  Write a function using only list filter lambda that can tell whether a number is a Fibonacci number or not. You can use a pre-calculated list/dict to store fab numbers till 10000"
      ]
    },
    {
      "cell_type": "markdown",
      "metadata": {
        "id": "onFVYawYqbCl"
      },
      "source": [
        "**Reduce function** : \n",
        "*   At first step, first two elements of sequence are picked and the result is obtained.\n",
        "*   Next step is to apply the same function to the previously attained result and the number just succeeding the second element and the result is again stored.\n",
        "*   This process continues till no more elements are left in the container.\n",
        "\n",
        "\n",
        "**Lambda** :\n",
        "*   An anonymous function\n",
        "*   This function can have any number of arguments but only one expression, which is evaluated and returned.\n",
        "*   One is free to use lambda functions wherever function objects are required.\n",
        "\n",
        "**Filter** :\n",
        "*   The filter() function in Python takes in a function and a list as arguments.\n",
        "*   This offers an elegant way to filter out all the elements of a sequence “sequence”, for which the function returns True.\n"
      ]
    },
    {
      "cell_type": "code",
      "metadata": {
        "id": "P5UQ5CcTIMmU",
        "outputId": "9c42ae80-42af-4add-9b70-51b3afae4d90",
        "colab": {
          "base_uri": "https://localhost:8080/"
        }
      },
      "source": [
        "def checkFibonacciNumberOrNot(listOfNumbers):\n",
        "  print(type(listOfNumbers))\n",
        "  fibonacciObj = lambda n: reduce(lambda x, _: x+[x[-1]+x[-2]],range(n-2), [0, 1])\n",
        "  fibonnaci_list = fibonacciObj(5)\n",
        "  return bool(list(filter(lambda x : x in [0, 1, 1, 2, 3],fibonnaci_list)))\n",
        "checkFibonacciNumberOrNot([2, 3])"
      ],
      "execution_count": 26,
      "outputs": [
        {
          "output_type": "stream",
          "text": [
            "<class 'list'>\n"
          ],
          "name": "stdout"
        },
        {
          "output_type": "execute_result",
          "data": {
            "text/plain": [
              "True"
            ]
          },
          "metadata": {
            "tags": []
          },
          "execution_count": 26
        }
      ]
    },
    {
      "cell_type": "markdown",
      "metadata": {
        "id": "HJFWqlrAyfoF"
      },
      "source": [
        "2.  Using list comprehension (and zip/lambda/etc if required) write five different expressions that:\n",
        "*   add 2 iterables a and b such that a is even and b is odd\n",
        "*   strips every vowel from a string provided (tsai>>t s)\n",
        "*   acts like a ReLU function for a 1D array\n",
        "*   acts like a sigmoid function for a 1D array\n",
        "*   takes a small character string and shifts all characters by 5 (handle boundary conditions) tsai>>yxfn"
      ]
    },
    {
      "cell_type": "markdown",
      "metadata": {
        "id": "sV0jmjJ0y4pa"
      },
      "source": [
        "ZIP function python\n",
        "*   Python zip is a container that holds real data inside\n",
        "*   Python zip function takes iterable elements as input, and returns iterator\n",
        "*   If Python zip function gets no iterable elements, it returns an empty iterator.\n",
        "\n"
      ]
    },
    {
      "cell_type": "code",
      "metadata": {
        "id": "bqMSPtDftPXy",
        "outputId": "ac158303-1e17-45a2-b128-ef5c1d52b15e",
        "colab": {
          "base_uri": "https://localhost:8080/"
        }
      },
      "source": [
        "def sumOfEvenOdd(listA,listB):\n",
        "    return [a + b for a, b in zip(listA, listB) if a % 2==0 and b % 2 != 0 ]\n",
        "\n",
        "resultList = sumOfEvenOdd([2, 4, 6, 8, 10], [1, 3, 5, 7, 9])\n",
        "print(resultList)"
      ],
      "execution_count": 27,
      "outputs": [
        {
          "output_type": "stream",
          "text": [
            "[3, 7, 11, 15, 19]\n"
          ],
          "name": "stdout"
        }
      ]
    },
    {
      "cell_type": "code",
      "metadata": {
        "id": "KWglqcZS0a5q",
        "outputId": "dae98e56-c445-4d97-e5f6-8c47519e1e6a",
        "colab": {
          "base_uri": "https://localhost:8080/"
        }
      },
      "source": [
        "def removingVowels(content):\n",
        "    return \"\".join([x for x in content if x not in ['a','e','i','o','u']])\n",
        "\n",
        "text = ''' The Python zip function accepts zero or more iterables and returns an iterator tuple. In this section, we discuss how to use the Python zip \n",
        "function to combine iterable items with example. '''\n",
        "resultAfterRemovingVowel = removingVowels(text)\n",
        "print(resultAfterRemovingVowel)"
      ],
      "execution_count": 28,
      "outputs": [
        {
          "output_type": "stream",
          "text": [
            " Th Pythn zp fnctn ccpts zr r mr trbls nd rtrns n trtr tpl. In ths sctn, w dscss hw t s th Pythn zp \n",
            "fnctn t cmbn trbl tms wth xmpl. \n"
          ],
          "name": "stdout"
        }
      ]
    },
    {
      "cell_type": "markdown",
      "metadata": {
        "id": "ATAirYe_1YvL"
      },
      "source": [
        "ReLU function:\n",
        "\n",
        "The rectified linear activation function or ReLU for short is a piecewise linear function that will output the input directly if it is positive, otherwise, it will output zero. It has become the default activation function for many types of neural networks because a model that uses it is easier to train and often achieves better performance."
      ]
    },
    {
      "cell_type": "code",
      "metadata": {
        "id": "Qq122zX11S4Q",
        "outputId": "e36d3f97-9ca8-45c0-9d07-ac6c7cb31f7c",
        "colab": {
          "base_uri": "https://localhost:8080/"
        }
      },
      "source": [
        "def reluFunction(values):\n",
        "    return [0 if x < 0 else x for x in values]\n",
        "values = [-4, -0.1, 1, 1.5, 100, 0]\n",
        "relu_list = reluFunction(values)\n",
        "print(relu_list)"
      ],
      "execution_count": 29,
      "outputs": [
        {
          "output_type": "stream",
          "text": [
            "[0, 0, 1, 1.5, 100, 0]\n"
          ],
          "name": "stdout"
        }
      ]
    },
    {
      "cell_type": "markdown",
      "metadata": {
        "id": "0N6Y-q3k2UIf"
      },
      "source": [
        "Sigmoid function:\n",
        "\n",
        "A sigmoid function is a bounded, differentiable, real function that is defined for all real input values and has a non-negative derivative at each point and exactly one inflection point.\n",
        "\n",
        "S(x) = 1 / (1 + e^-x)"
      ]
    },
    {
      "cell_type": "code",
      "metadata": {
        "id": "937OAsRI2B7R",
        "outputId": "be4ae594-2e49-46ab-9f7c-d9064d20314f",
        "colab": {
          "base_uri": "https://localhost:8080/"
        }
      },
      "source": [
        "def sigmoidFunction(values):\n",
        "    return [1/(1 + np.exp(-x)) for x in values]\n",
        "    \n",
        "values = [-4, -0.1, 1, 1.5, 100, 0]\n",
        "sigmoid_list = sigmoidFunction(values)\n",
        "print(sigmoid_list)"
      ],
      "execution_count": 30,
      "outputs": [
        {
          "output_type": "stream",
          "text": [
            "[0.01798620996209156, 0.47502081252106, 0.7310585786300049, 0.8175744761936437, 1.0, 0.5]\n"
          ],
          "name": "stdout"
        }
      ]
    },
    {
      "cell_type": "code",
      "metadata": {
        "id": "yZC9di1g21hW",
        "outputId": "bbf0b4e2-779f-4a94-be71-c34b0c2d65de",
        "colab": {
          "base_uri": "https://localhost:8080/"
        }
      },
      "source": [
        "def shifting(content):\n",
        "  return \"\".join([chr((ord(x)+5)) if ord(x)>122 else chr((ord(x)+5)-26) for x in content])\n",
        "content = 'tsai>>yxfn'\n",
        "resultingText = shifting(content)\n",
        "print(resultingText)"
      ],
      "execution_count": 31,
      "outputs": [
        {
          "output_type": "stream",
          "text": [
            "_^LT))dcQY\n"
          ],
          "name": "stdout"
        }
      ]
    },
    {
      "cell_type": "markdown",
      "metadata": {
        "id": "end-grva5zO7"
      },
      "source": [
        "3.  A list comprehension expression that takes a ~200 word paragraph (write your own paragraph to check), and checks whether it has any of the swear words mentioned in https://github.com/RobertJGabriel/Google-profanity-words/blob/master/list.txt"
      ]
    },
    {
      "cell_type": "code",
      "metadata": {
        "id": "IMeAD3q534Si",
        "outputId": "05432d30-4152-4c86-d5e5-4c3f85ef06f2",
        "colab": {
          "base_uri": "https://localhost:8080/"
        }
      },
      "source": [
        "def swearWordsDetector(content):\n",
        "  fileObj = open(\"/content/drive/My Drive/ENDProgram/Session3/swearlist.txt\", \"r\")\n",
        "  listOfSwearWords = [l.rstrip() for l in fileObj.readlines()]\n",
        "  return bool([r for r in content.split(\" \") if any(z in r for z in listOfSwearWords)])\n",
        "\n",
        "contentWithSwearWords = ''' A visit to a historical place is always an exciting experience. It is a fascinating adventure. I had one such experience during the last summer vacations, when I visited Bhopal.\n",
        "With my family, I reached Bhopal by train. After some rest, we undertook boner a visit to Bhopal. Bhopal is a historical city. We visited the Sanchi Stupa first. The 'Sanchi Stupa' is located about 46 km away from Bhopal in a small place called Sanchi. Sanchi is a small village in Raisen District of the state of Madhya Pradesh, India. It is a religious place with historical and archaeological significance.\n",
        "It is the location of several Buddhist monuments. The place is famous for the boobs Stupas (brick mounds) which were built on the top of a hill. The Great Stupa at Sanchi is the oldest stone structure in India. It was originally commissioned by the emperor Ashoka the Great. It has four profusely carved ornamental gateways and a balustrade encircling the whole structure.\n",
        "By noon, we had completed the tour of Sanchi Stupa and returned back. I enjoyed my trip to the Sanchi Stupa very much. It was really an unforgettable experience which apart from being intellectually rewarding gave us a glimpse of our country's proud history. '''\n",
        "print('Content Has Swear words : ', swearWordsDetector(contentWithSwearWords))\n",
        "\n",
        "contentWithoutSwearWords = ''' Paragraph without swear words Paragraph without swear words Paragraph without swear \n",
        "words Paragraph without swear words Paragraph without swear words Paragraph without swear words Paragraph without \n",
        "swear words Paragraph without swear words Paragraph without swear words Paragraph without swear words Paragraph without \n",
        "swear words Paragraph without swear words Paragraph without swear words Paragraph without swear words Paragraph \n",
        "without swear words Paragraph without swear words Paragraph without swear words Paragraph without swear words Paragraph without swear words Paragraph without swear words Paragraph without swear words Paragraph without swear words Paragraph without swear words '''\n",
        "print('Content Has No Swear words : ', swearWordsDetector(contentWithoutSwearWords))\n"
      ],
      "execution_count": 32,
      "outputs": [
        {
          "output_type": "stream",
          "text": [
            "Content Has Swear words :  True\n",
            "Content Has No Swear words :  False\n"
          ],
          "name": "stdout"
        }
      ]
    },
    {
      "cell_type": "markdown",
      "metadata": {
        "id": "htEHCbrDQ4Sp"
      },
      "source": [
        "Using reduce functions: \n",
        "*  add only even numbers in a list\n",
        "*  find the biggest character in a string (printable ascii characters)\n",
        "*  adds every 3rd number in a list"
      ]
    },
    {
      "cell_type": "code",
      "metadata": {
        "id": "TUfzh1eE7g1n",
        "outputId": "95d5693c-1514-449a-84da-31c62f5ad314",
        "colab": {
          "base_uri": "https://localhost:8080/"
        }
      },
      "source": [
        "def sumEvenNumbersOnly(inputList):\n",
        "    return reduce((lambda x, y: x + y), [x for x in inputList if x%2==0])\n",
        "\n",
        "evenNumbersOnly = [2, 4, 6, 8, 10]\n",
        "bothEvenOddNumbers = [1, 2, 3, 4, 5, 6, 7, 8, 9, 10]\n",
        "\n",
        "print('Input Containing Only Even Numbers : ', sumEvenNumbersOnly(evenNumbersOnly))\n",
        "print('Input Containing Both Even & Odd Numbers : ', sumEvenNumbersOnly(bothEvenOddNumbers))"
      ],
      "execution_count": 33,
      "outputs": [
        {
          "output_type": "stream",
          "text": [
            "Input Containing Only Even Numbers :  30\n",
            "Input Containing Both Even & Odd Numbers :  30\n"
          ],
          "name": "stdout"
        }
      ]
    },
    {
      "cell_type": "markdown",
      "metadata": {
        "id": "DfMITddJRuC5"
      },
      "source": [
        "Ord():\n",
        "\n",
        "The ord() function in Python accepts a string of length 1 as an argument and returns the unicode code point representation of the passed argument."
      ]
    },
    {
      "cell_type": "code",
      "metadata": {
        "id": "o_dexV1ARenM",
        "outputId": "1d64af6a-fe0c-43bd-d6cd-bed194525a49",
        "colab": {
          "base_uri": "https://localhost:8080/"
        }
      },
      "source": [
        "def calculateBiggestASCII(inputList):\n",
        "    return reduce(lambda x, y: x if ord(x)>ord(y) else y,inputList)\n",
        "\n",
        "charactersList = ['a', '2', 'k']\n",
        "print(\"ASCII Characters : \", calculateBiggestASCII(charactersList))\n",
        "\n",
        "charactersList = ['Q', '2', 'K']\n",
        "print(\"ASCII Characters : \", calculateBiggestASCII(charactersList))"
      ],
      "execution_count": 34,
      "outputs": [
        {
          "output_type": "stream",
          "text": [
            "ASCII Characters :  k\n",
            "ASCII Characters :  Q\n"
          ],
          "name": "stdout"
        }
      ]
    },
    {
      "cell_type": "code",
      "metadata": {
        "id": "ocgAmLrISBJw",
        "outputId": "7ef9797e-6385-4898-b5b5-d1f0550893aa",
        "colab": {
          "base_uri": "https://localhost:8080/"
        }
      },
      "source": [
        "def addEveryThirdNumbersInAList(inputList):\n",
        "    return reduce((lambda x, y: x + y), [x for ind, x in enumerate(inputList) if ind == 2 or ind % 3 == 2])\n",
        "numbersList = [1, 2, 3, 3, 2, 1, 4, 5, 6, 6, 5, 4]\n",
        "print(\"Result after summing every 3rd Number : \", addEveryThirdNumbersInAList(numbersList))"
      ],
      "execution_count": 35,
      "outputs": [
        {
          "output_type": "stream",
          "text": [
            "Result after summing every 3rd Number :  14\n"
          ],
          "name": "stdout"
        }
      ]
    },
    {
      "cell_type": "markdown",
      "metadata": {
        "id": "ez9LrO6FTN3z"
      },
      "source": [
        "Using randint, random.choice and list comprehensions, write an expression that generates 15 random KADDAADDDD number plates, where KA is fixed, D stands for a digit, and A stands for Capital alphabets. 10<<DD<<99 & 1000<<DDDD<<9999"
      ]
    },
    {
      "cell_type": "markdown",
      "metadata": {
        "id": "rT-rjcnDUI1R"
      },
      "source": [
        "randint():\n",
        "\n",
        "The randint() method returns an integer number selected element from the specified range.\n",
        "\n",
        "choice():\n",
        "\n",
        "The choice() method returns a randomly selected element from the specified sequence.\n",
        "\n",
        "range():\n",
        "\n",
        "The range() function returns a sequence of numbers, starting from 0 by default, and increments by 1 (by default), and stops before a specified number."
      ]
    },
    {
      "cell_type": "code",
      "metadata": {
        "id": "TbSr756RSsqY",
        "outputId": "dc4ee221-5348-41e4-cc7a-8accff9a5915",
        "colab": {
          "base_uri": "https://localhost:8080/"
        }
      },
      "source": [
        "def generateUniqueKANumberPlate():\n",
        "  stateID = 'KA'\n",
        "  startAreaCode = 10\n",
        "  endAreaCode = 99\n",
        "  startUniqueBikeNumber = 1000\n",
        "  endUniqueBikeNumber = 9999\n",
        "\n",
        "  return [stateID+(str(random.randint(startAreaCode,endAreaCode))+random.choice(string.ascii_uppercase)+\n",
        "    random.choice(string.ascii_uppercase)+str(random.randint(startUniqueBikeNumber,endUniqueBikeNumber))) for item in range(15)]\n",
        "\n",
        "kaNumberPlates = generateUniqueKANumberPlate()\n",
        "print('KA Number Plates : ',  kaNumberPlates)"
      ],
      "execution_count": 36,
      "outputs": [
        {
          "output_type": "stream",
          "text": [
            "KA Number Plates :  ['KA37BY2501', 'KA96OH3888', 'KA63ER7277', 'KA19AD6511', 'KA21OG6710', 'KA66SU1114', 'KA26DC9008', 'KA27US1063', 'KA40GM3059', 'KA51SF4975', 'KA49YQ4445', 'KA23WT2025', 'KA41YT5310', 'KA23QW4526', 'KA49KV8276']\n"
          ],
          "name": "stdout"
        }
      ]
    },
    {
      "cell_type": "markdown",
      "metadata": {
        "id": "r7uN52b9VBVe"
      },
      "source": [
        "Write the above again from scratch where KA can be changed to DL, and 1000/9999 ranges can be provided."
      ]
    },
    {
      "cell_type": "code",
      "metadata": {
        "id": "4sxMwKLrU6O2",
        "outputId": "118851a5-49f4-4268-92b3-92945056f9d7",
        "colab": {
          "base_uri": "https://localhost:8080/"
        }
      },
      "source": [
        "def generateUniqueKANumberPlate():\n",
        "  stateID = 'DL'\n",
        "  startAreaCode = 10\n",
        "  endAreaCode = 99\n",
        "  startUniqueBikeNumber = 1000\n",
        "  endUniqueBikeNumber = 9999\n",
        "\n",
        "  return [stateID+(str(random.randint(startAreaCode,endAreaCode))+random.choice(string.ascii_uppercase)+\n",
        "    random.choice(string.ascii_uppercase)+str(random.randint(startUniqueBikeNumber,endUniqueBikeNumber))) for item in range(15)]\n",
        "\n",
        "kaNumberPlates = generateUniqueKANumberPlate()\n",
        "print('DL Number Plates : ',  kaNumberPlates)"
      ],
      "execution_count": 37,
      "outputs": [
        {
          "output_type": "stream",
          "text": [
            "DL Number Plates :  ['DL99BJ9341', 'DL70IJ4417', 'DL57AB9909', 'DL32PU8432', 'DL12VP6811', 'DL97AS8369', 'DL57QV3407', 'DL43TY8849', 'DL54IT6102', 'DL71IF7517', 'DL99QJ7771', 'DL52MT4193', 'DL88RQ4561', 'DL45KL4798', 'DL47UX7000']\n"
          ],
          "name": "stdout"
        }
      ]
    },
    {
      "cell_type": "code",
      "metadata": {
        "id": "hY8xwHmsWkjW"
      },
      "source": [
        ""
      ],
      "execution_count": 37,
      "outputs": []
    }
  ]
}